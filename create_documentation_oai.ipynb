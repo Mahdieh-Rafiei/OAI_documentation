{
 "cells": [
  {
   "cell_type": "code",
   "execution_count": 1,
   "metadata": {},
   "outputs": [],
   "source": [
    "import PyPDF2\n",
    "import csv\n",
    "import pandas as pd\n",
    "import openpyxl"
   ]
  },
  {
   "cell_type": "markdown",
   "metadata": {},
   "source": [
    "##### PDF Crawling :)"
   ]
  },
  {
   "cell_type": "code",
   "execution_count": 2,
   "metadata": {},
   "outputs": [],
   "source": [
    "text_pdf = []\n",
    "# Open the PDF file in binary mode (Main documentation)\n",
    "with open('../Stuff/VG_Variable.pdf', 'rb') as f:\n",
    "    # Create a PdfFileReader object to read the PDF\n",
    "    pdf = PyPDF2.PdfReader(f)\n",
    "    # Identify the page numbers that contain the variables\n",
    "    variable_pages = []\n",
    "    for page in range(len(pdf.pages)):\n",
    "        # Extract text from the page\n",
    "        text = pdf.pages[page].extract_text()\n",
    "        text_pdf.append(text)"
   ]
  },
  {
   "cell_type": "code",
   "execution_count": 3,
   "metadata": {},
   "outputs": [],
   "source": [
    "all_text = \"\"\n",
    "for page in text_pdf:\n",
    "    all_text = all_text + \"\\n\" + page\n",
    "# print(all_text)"
   ]
  },
  {
   "cell_type": "code",
   "execution_count": 4,
   "metadata": {},
   "outputs": [],
   "source": [
    "var_dict = {}\n",
    "for section in all_text.split(\"____________________________________________________________________________________\"):\n",
    "    # print(section)\n",
    "    before_var = None\n",
    "    after_category = False\n",
    "    cat_ans = False\n",
    "    cats=[\"N\", \"Min\", \"Max\", \"Mean\", \"Std Dev\"]\n",
    "    for line in section.split(\"\\n\"):\n",
    "        # print(line)\n",
    "        if line.strip().__len__() == 0:\n",
    "            continue\n",
    "        if after_category:\n",
    "            category = line\n",
    "            after_category = False\n",
    "            continue\n",
    "        # print(line, \"Release\" in line)\n",
    "        if \"Variable Name:\" in line:\n",
    "            var_name = line.split(\"Variable Name:\")[-1].strip()\n",
    "            title = before_var\n",
    "        elif \"Label:\" in line:\n",
    "            label = line.split(\"Label:\")[-1].strip()\n",
    "        elif \"SAS Dataset:\" in line:\n",
    "            ds = line.split(\"SAS Dataset:\")[-1].strip()\n",
    "        elif \"Category\" in line:\n",
    "            after_category = True\n",
    "        elif \"NMin Max Mean Std Dev\" == line.strip():\n",
    "            cat_ans=True\n",
    "        elif cat_ans:\n",
    "            cat_ans = False\n",
    "            ans = line.strip().split(\" \")\n",
    "            answer_of_categoris = {c: a for c, a in zip(cats, ans)}\n",
    "            # print(answer_of_categoris)\n",
    "        before_var = line\n",
    "    var_dict[var_name] = {\"Follow up\": title, \"Label\": label, \"Dataset_name\":ds, \"Category, Subcategory\": category}\n",
    "\n",
    "    var_dict[var_name].update(answer_of_categoris)\n",
    "    "
   ]
  },
  {
   "cell_type": "markdown",
   "metadata": {},
   "source": [
    "##### Dataset you need that:"
   ]
  },
  {
   "cell_type": "code",
   "execution_count": 5,
   "metadata": {},
   "outputs": [],
   "source": [
    "df = pd.read_csv('..')\n",
    "# remove ID and VERSION\n",
    "allClinical_target_columns = df.columns.values[2:]"
   ]
  },
  {
   "cell_type": "code",
   "execution_count": 10,
   "metadata": {},
   "outputs": [],
   "source": [
    "all_clinical = {}\n",
    "for c_name in allClinical_target_columns:\n",
    "    if c_name in var_dict:\n",
    "        all_clinical[c_name] = var_dict[c_name]"
   ]
  },
  {
   "cell_type": "code",
   "execution_count": 11,
   "metadata": {},
   "outputs": [
    {
     "name": "stdout",
     "output_type": "stream",
     "text": [
      "len all_clinical target:  59\n",
      "len all_clinical: 58\n"
     ]
    }
   ],
   "source": [
    "print(\"len all_clinical target: \", len(allClinical_target_columns))\n",
    "print(\"len all_clinical:\", len(all_clinical))"
   ]
  },
  {
   "cell_type": "code",
   "execution_count": 12,
   "metadata": {},
   "outputs": [],
   "source": [
    "# finding difference between allClinical_target_columns and all_clinical\n",
    "# which variables are not in main documentation\n",
    "x = set(all_clinical.keys()).symmetric_difference(set(allClinical_target_columns))"
   ]
  },
  {
   "cell_type": "code",
   "execution_count": 14,
   "metadata": {},
   "outputs": [
    {
     "data": {
      "text/plain": [
       "{'VERSION'}"
      ]
     },
     "execution_count": 14,
     "metadata": {},
     "output_type": "execute_result"
    }
   ],
   "source": [
    "x"
   ]
  },
  {
   "cell_type": "markdown",
   "metadata": {},
   "source": [
    "##### excel:"
   ]
  },
  {
   "cell_type": "code",
   "execution_count": 15,
   "metadata": {},
   "outputs": [],
   "source": [
    "def create_excel_file(data):\n",
    "    workbook = openpyxl.Workbook()\n",
    "    sheet = workbook.active\n",
    "\n",
    "    # Write headers\n",
    "    headers = list(data.values())[0].keys()\n",
    "    sheet.append(['Variable'] + list(headers))\n",
    "\n",
    "    # Write data\n",
    "    for key, values in data.items():\n",
    "        row = [key] + list(values.values())\n",
    "        sheet.append(row)\n",
    "\n",
    "    # Save the workbook\n",
    "    workbook.save('../documentation.xlsx')\n",
    "\n",
    "# Example dictionary\n",
    "data = all_clinical\n",
    "\n",
    "# Create the Excel file\n",
    "create_excel_file(data)"
   ]
  }
 ],
 "metadata": {
  "kernelspec": {
   "display_name": "base",
   "language": "python",
   "name": "python3"
  },
  "language_info": {
   "codemirror_mode": {
    "name": "ipython",
    "version": 3
   },
   "file_extension": ".py",
   "mimetype": "text/x-python",
   "name": "python",
   "nbconvert_exporter": "python",
   "pygments_lexer": "ipython3",
   "version": "3.9.13"
  },
  "orig_nbformat": 4,
  "vscode": {
   "interpreter": {
    "hash": "0c1626795deac125eb0996b4ea5b1359e63fc8e43d88eb84222e4fca7c94a0c9"
   }
  }
 },
 "nbformat": 4,
 "nbformat_minor": 2
}
